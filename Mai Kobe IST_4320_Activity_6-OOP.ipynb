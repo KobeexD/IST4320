{
 "cells": [
  {
   "cell_type": "markdown",
   "id": "0ac2cc3a-12a0-421e-97ea-93b256a844f8",
   "metadata": {
    "tags": []
   },
   "source": [
    "Please go through the following in the text:\n",
    "- [Chapter 14 -Object-Oriented Programming](https://eng.libretexts.org/Bookshelves/Computer_Science/Programming_Languages/Book%3A_Python_for_Everybody_(Severance)/14%3A_Object-Oriented_Programming)\n",
    "\n",
    "\n",
    "# Introduction to Object-Oriented Programming\n",
    "## Objects, Methods, Attributes\n",
    "- Class:  A template that can be used to construct an object. Defines the attributes and methods that will make up the object.\n",
    "- Object: A constructed instance of a class. An object contains all of the attributes and methods that were defined by the class. Some object-oriented documentation uses the term 'instance' interchangeably with 'object'.\n",
    "- Methods: A function that is contained within a class and the objects that are constructed from the class. Some object-oriented patterns use 'message' instead of 'method' to describe this concept.\n",
    "- Attributes: A variable that is part of a class.\n",
    "- Namespace: A collection of currently defined symbolic names along with information about the object that each name references"
   ]
  },
  {
   "cell_type": "markdown",
   "id": "2e8b6dfb",
   "metadata": {},
   "source": [
    "### f strings\n",
    "You may have seen this notation before, an f string (i.e. a formatted string literal), allowing you add objects together with strings. Let's take a look. \n",
    "\n",
    "Instead of making a string with '' or \"\", start it with an `f` which will allow you to insert objects or expressions without breaking the string. Insert the objects/expressions using curly braces {}. This also works outside of the print() function too! "
   ]
  },
  {
   "cell_type": "code",
   "execution_count": 110,
   "id": "c27c3118",
   "metadata": {},
   "outputs": [
    {
     "name": "stdout",
     "output_type": "stream",
     "text": [
      "I would like some Pizza\n",
      "I would like some Pizza\n"
     ]
    }
   ],
   "source": [
    "food_item = 'Pizza'\n",
    "print(\"I would like some\", food_item)\n",
    "print(f'I would like some {food_item}')\n"
   ]
  },
  {
   "cell_type": "markdown",
   "id": "c28071d3",
   "metadata": {},
   "source": [
    "Seems the same, so why bother? Well, f-strings let you easily add more complex formatting. Learn more about the capabilities here:\n",
    "https://www.freecodecamp.org/news/python-f-strings-tutorial-how-to-use-f-strings-for-string-formatting/"
   ]
  },
  {
   "cell_type": "code",
   "execution_count": 111,
   "id": "bebb6373",
   "metadata": {},
   "outputs": [
    {
     "data": {
      "text/plain": [
       "'$10 divided by 3 is $3.33'"
      ]
     },
     "execution_count": 111,
     "metadata": {},
     "output_type": "execute_result"
    }
   ],
   "source": [
    "f'$10 divided by 3 is ${10/3:.2f}' # .2f adds a format of 2 decimal places"
   ]
  },
  {
   "cell_type": "markdown",
   "id": "439cd733-2b49-45dc-b5e1-fbfac5a49868",
   "metadata": {},
   "source": [
    "## Classes\n",
    "Let's look at classes. Actually, we've already been using them..."
   ]
  },
  {
   "cell_type": "code",
   "execution_count": 112,
   "id": "de9da57d-1abd-4dd0-9089-c8985e313341",
   "metadata": {},
   "outputs": [
    {
     "name": "stdout",
     "output_type": "stream",
     "text": [
      "<class 'list'>\n"
     ]
    }
   ],
   "source": [
    "# The list class and a list object\n",
    "list_object = [1,2,3,3,4,4,4] \n",
    "print(type(list_object))"
   ]
  },
  {
   "cell_type": "code",
   "execution_count": 114,
   "id": "f719b025-9b6b-4a44-874e-da4a7165f278",
   "metadata": {},
   "outputs": [
    {
     "name": "stdout",
     "output_type": "stream",
     "text": [
      "['__add__', '__class__', '__contains__', '__delattr__', '__delitem__', '__dir__', '__doc__', '__eq__', '__format__', '__ge__', '__getattribute__', '__getitem__', '__gt__', '__hash__', '__iadd__', '__imul__', '__init__', '__init_subclass__', '__iter__', '__le__', '__len__', '__lt__', '__mul__', '__ne__', '__new__', '__reduce__', '__reduce_ex__', '__repr__', '__reversed__', '__rmul__', '__setattr__', '__setitem__', '__sizeof__', '__str__', '__subclasshook__', 'append', 'clear', 'copy', 'count', 'extend', 'index', 'insert', 'pop', 'remove', 'reverse', 'sort']\n",
      "<class 'builtin_function_or_method'>\n",
      "Help on built-in function count:\n",
      "\n",
      "count(value, /) method of builtins.list instance\n",
      "    Return number of occurrences of value.\n",
      "\n",
      "None\n",
      "How many times does 4 appear? 3\n"
     ]
    }
   ],
   "source": [
    "print(dir(list_object)) #show me all the methods and attributes\n",
    "print(type(list_object.count)) #what is count? a function\n",
    "print(help(list_object.count)) #what does count do\n",
    "print(\"How many times does 4 appear?\",list_object.count(4)) #use a method within the list_object object\n"
   ]
  },
  {
   "cell_type": "code",
   "execution_count": 117,
   "id": "9a3470a3-0d84-4cf1-a64b-1ac26c5c94b2",
   "metadata": {},
   "outputs": [
    {
     "name": "stdout",
     "output_type": "stream",
     "text": [
      "['__add__', '__class__', '__contains__', '__delattr__', '__delitem__', '__dir__', '__doc__', '__eq__', '__format__', '__ge__', '__getattribute__', '__getitem__', '__gt__', '__hash__', '__iadd__', '__imul__', '__init__', '__init_subclass__', '__iter__', '__le__', '__len__', '__lt__', '__mul__', '__ne__', '__new__', '__reduce__', '__reduce_ex__', '__repr__', '__reversed__', '__rmul__', '__setattr__', '__setitem__', '__sizeof__', '__str__', '__subclasshook__', 'append', 'clear', 'copy', 'count', 'extend', 'index', 'insert', 'pop', 'remove', 'reverse', 'sort']\n"
     ]
    }
   ],
   "source": [
    "# Namespace \n",
    "#print(dir()) # all objects currently in memory in Python\n",
    "print(dir(list_object))"
   ]
  },
  {
   "cell_type": "code",
   "execution_count": 118,
   "id": "0467ccf6",
   "metadata": {},
   "outputs": [
    {
     "name": "stdout",
     "output_type": "stream",
     "text": [
      "Beb\n",
      "Ben has been recorded as your name. Thank you.\n",
      "Ben\n",
      "Help on method change_name in module __main__:\n",
      "\n",
      "change_name() method of __main__.Student instance\n",
      "    change_name()\n",
      "    Call this function to change name!\n",
      "\n"
     ]
    }
   ],
   "source": [
    "# Let's define our own class\n",
    "class Student:\n",
    "    university = 'CSUSB' #This is an attribute of the class AND instances, inherited by all new instances!\n",
    "    def __init__(self, Student_name): #Initializes an instance with a student name\n",
    "        self.name = Student_name\n",
    "\n",
    "    def change_name(self): #classes can have methods (functions) too!\n",
    "        #docstrings are information between triple quotes and they provide important documentation!\n",
    "        '''change_name()\n",
    "        Call this function to change name!\n",
    "        '''\n",
    "        self.name = input(\"What is your name? \")\n",
    "        print(self.name,\"has been recorded as your name. Thank you.\")\n",
    "    \n",
    "CodyCoyote = Student(\"Cody\") # make a new object CodyCoyote, which is a specific instance of the Student class\n",
    "BenB = Student(\"Beb\") # make a new object BenB, which is a specific instance of the Student class\n",
    "print(BenB.name)\n",
    "#oops, change the name!\n",
    "BenB.change_name()\n",
    "print(BenB.name)\n",
    "help(BenB.change_name)\n"
   ]
  },
  {
   "cell_type": "code",
   "execution_count": 119,
   "id": "2c2a0b22",
   "metadata": {},
   "outputs": [
    {
     "name": "stdout",
     "output_type": "stream",
     "text": [
      "Cody's university is CSUSB\n",
      "Ben's university is CSUSB\n",
      "Any Student's university is CSUSB\n",
      "Cody's name is Cody\n",
      "Ben's name is Ben\n"
     ]
    },
    {
     "ename": "AttributeError",
     "evalue": "type object 'Student' has no attribute 'name'",
     "output_type": "error",
     "traceback": [
      "\u001b[0;31m---------------------------------------------------------------------------\u001b[0m",
      "\u001b[0;31mAttributeError\u001b[0m                            Traceback (most recent call last)",
      "\u001b[0;32m<ipython-input-119-3208ae2fefee>\u001b[0m in \u001b[0;36m<module>\u001b[0;34m\u001b[0m\n\u001b[1;32m      4\u001b[0m \u001b[0mprint\u001b[0m\u001b[0;34m(\u001b[0m\u001b[0;34mf\"Cody's name is {CodyCoyote.name}\"\u001b[0m\u001b[0;34m)\u001b[0m\u001b[0;34m\u001b[0m\u001b[0;34m\u001b[0m\u001b[0m\n\u001b[1;32m      5\u001b[0m \u001b[0mprint\u001b[0m\u001b[0;34m(\u001b[0m\u001b[0;34mf\"Ben's name is {BenB.name}\"\u001b[0m\u001b[0;34m)\u001b[0m\u001b[0;34m\u001b[0m\u001b[0;34m\u001b[0m\u001b[0m\n\u001b[0;32m----> 6\u001b[0;31m \u001b[0mprint\u001b[0m\u001b[0;34m(\u001b[0m\u001b[0;34mf\"Any Student's name..? {Student.name})\"\u001b[0m\u001b[0;34m)\u001b[0m \u001b[0;31m# name is only intialized with a new specific instance of Student class!\u001b[0m\u001b[0;34m\u001b[0m\u001b[0;34m\u001b[0m\u001b[0m\n\u001b[0m",
      "\u001b[0;31mAttributeError\u001b[0m: type object 'Student' has no attribute 'name'"
     ]
    }
   ],
   "source": [
    "print(f\"Cody's university is {CodyCoyote.university}\")\n",
    "print(f\"Ben's university is {BenB.university}\")\n",
    "print(f\"Any Student's university is {Student.university}\")\n",
    "print(f\"Cody's name is {CodyCoyote.name}\")\n",
    "print(f\"Ben's name is {BenB.name}\")\n",
    "print(f\"Any Student's name..? {Student.name})\") # name is only intialized with a new specific instance of Student class!"
   ]
  },
  {
   "cell_type": "code",
   "execution_count": 120,
   "id": "ee485ff3",
   "metadata": {},
   "outputs": [
    {
     "name": "stdout",
     "output_type": "stream",
     "text": [
      "Ben has these hobbies: cooking\n"
     ]
    },
    {
     "ename": "AttributeError",
     "evalue": "'Student' object has no attribute 'hobbies'",
     "output_type": "error",
     "traceback": [
      "\u001b[0;31m---------------------------------------------------------------------------\u001b[0m",
      "\u001b[0;31mAttributeError\u001b[0m                            Traceback (most recent call last)",
      "\u001b[0;32m<ipython-input-120-c1a6fc8b0761>\u001b[0m in \u001b[0;36m<module>\u001b[0;34m\u001b[0m\n\u001b[1;32m      1\u001b[0m \u001b[0msetattr\u001b[0m\u001b[0;34m(\u001b[0m\u001b[0mBenB\u001b[0m\u001b[0;34m,\u001b[0m \u001b[0;34m'hobbies'\u001b[0m\u001b[0;34m,\u001b[0m \u001b[0;34m'cooking'\u001b[0m\u001b[0;34m)\u001b[0m \u001b[0;31m# I could also do BenB.hobbies = 'cooking'\u001b[0m\u001b[0;34m\u001b[0m\u001b[0;34m\u001b[0m\u001b[0m\n\u001b[1;32m      2\u001b[0m \u001b[0mprint\u001b[0m\u001b[0;34m(\u001b[0m\u001b[0;34mf\"Ben has these hobbies: {BenB.hobbies}\"\u001b[0m\u001b[0;34m)\u001b[0m\u001b[0;34m\u001b[0m\u001b[0;34m\u001b[0m\u001b[0m\n\u001b[0;32m----> 3\u001b[0;31m \u001b[0mprint\u001b[0m\u001b[0;34m(\u001b[0m\u001b[0;34mf\"Does Cody have hobbies...?: {CodyCoyote.hobbies}\"\u001b[0m\u001b[0;34m)\u001b[0m \u001b[0;31m# nope, this was not automatically inherited\u001b[0m\u001b[0;34m\u001b[0m\u001b[0;34m\u001b[0m\u001b[0m\n\u001b[0m",
      "\u001b[0;31mAttributeError\u001b[0m: 'Student' object has no attribute 'hobbies'"
     ]
    }
   ],
   "source": [
    "setattr(BenB, 'hobbies', 'cooking') # I could also do BenB.hobbies = 'cooking'\n",
    "print(f\"Ben has these hobbies: {BenB.hobbies}\")\n",
    "print(f\"Does Cody have hobbies...?: {CodyCoyote.hobbies}\") # nope, this was not automatically inherited"
   ]
  },
  {
   "cell_type": "markdown",
   "id": "ab8e6d6c",
   "metadata": {},
   "source": [
    "## Access\n",
    "\n",
    "- Public: Any member inside or outside the class can access it\n",
    "- Protected: Only other members and submembers inside the class can access it\n",
    "- Private: Only the specific instance can access it\n",
    "\n",
    "Python does NOT truly have these exact access controls as other programming languages do (i.e. C++ and Java), because you could still find a way to access even protected and private methods/attributes. Python instead has naming conventions to alert other programmers of their intended use and relies on you being responsible 😇. Here they are:\n",
    "\n",
    "- `_protected` = If you see something start with a single underscore, then it's supposed to be treated as protected.\n",
    "- `__private` = If you see something start with a double underscore, then it's supposed to be treated as private. Python will do 'name mangling' so the __private variable is renamed to `_ClassName__private`, where ClassName is whatever the class name is, and `__private` is the name of your private variable. "
   ]
  },
  {
   "cell_type": "markdown",
   "id": "56fce93d",
   "metadata": {},
   "source": [
    "<center>As you can see below, you can still access private variables in Python if you really want to 🔓</center>"
   ]
  },
  {
   "cell_type": "code",
   "execution_count": 121,
   "id": "277fcda9",
   "metadata": {},
   "outputs": [
    {
     "name": "stdout",
     "output_type": "stream",
     "text": [
      "Name of game: Tetris\n",
      "Console: PC\n",
      "Cheat Code: LOL\n"
     ]
    }
   ],
   "source": [
    "class VideoGame:\n",
    "    def __init__(self, gameName, gameConsole, gameCheatCode): #Initializes attributes of the new object\n",
    "        self.name = gameName\n",
    "        self._console = gameConsole\n",
    "        self.__cheatCode = gameCheatCode\n",
    "        \n",
    "tetris = VideoGame('Tetris', 'PC', 'LOL')\n",
    "\n",
    "print(f\"Name of game: {tetris.name}\\nConsole: {tetris._console}\\nCheat Code: {tetris._VideoGame__cheatCode}\")\n"
   ]
  },
  {
   "cell_type": "markdown",
   "id": "ff6018a9",
   "metadata": {},
   "source": [
    "## Python Class Magic Methods 🪄\n",
    "The class we just made was pretty basic, and there are common methods used in Python that you may want to use:\n",
    "- `__init__` - initializes the attributes of a new object (also known as a 'constructor'; we already used this above)\n",
    "- `__setattr__` - Assigns a value to an attribute (we already used this above)\n",
    "- `__str__` - This is what a user will see if they try to print your class. It's meant to be human-readable. Outputs a string. Can be called with print() or str()\n",
    "- `__repr__`- This is what a user will see if they try to print your class. It's meant to have information about the object so it can be recreated, if needed. Outputs a string. Can be called with print() (ONLY if `__str__` is not present) or repr()\n",
    "- `__eq__` - checks if one instance of a class is equal to another instance. You CAN customize the behavior if you like...\n",
    "- `__dict__` - view properties of an object (Class or instance)\n",
    "\n",
    "\n"
   ]
  },
  {
   "cell_type": "markdown",
   "id": "ed80568a",
   "metadata": {},
   "source": [
    "### `__str__` vs. `__repr__`"
   ]
  },
  {
   "cell_type": "code",
   "execution_count": 122,
   "id": "82dc334f",
   "metadata": {},
   "outputs": [],
   "source": [
    "class Drink():\n",
    "    def __init__(self, drink_name, drink_temperature):\n",
    "        self.name = drink_name\n",
    "        self.temperature = drink_temperature\n",
    "    def __str__(self):\n",
    "        return f'Drink name is {self.name} and temperature is {self.temperature}'\n",
    "    def __repr__(self):\n",
    "        return f'Drink(name = {self.name}, temperature = {self.temperature})'\n",
    "\n",
    "coffee = Drink('coffee','hot')\n"
   ]
  },
  {
   "cell_type": "code",
   "execution_count": 123,
   "id": "d3552d8d",
   "metadata": {},
   "outputs": [
    {
     "name": "stdout",
     "output_type": "stream",
     "text": [
      "Drink name is coffee and temperature is hot\n",
      "Drink name is coffee and temperature is hot\n",
      "Drink(name = coffee, temperature = hot)\n"
     ]
    }
   ],
   "source": [
    "print(coffee) # __str__ is default\n",
    "print(str(coffee))\n",
    "print(repr(coffee))"
   ]
  },
  {
   "cell_type": "markdown",
   "id": "d0451d1e",
   "metadata": {},
   "source": [
    "### `__eq__`"
   ]
  },
  {
   "cell_type": "code",
   "execution_count": 124,
   "id": "36c17476",
   "metadata": {},
   "outputs": [],
   "source": [
    "class Food():\n",
    "    def __init__(self, food_name, food_type):\n",
    "        self.name = food_name\n",
    "    def __eq__(self, other):\n",
    "        print(f'Are {self.name} and {other.name} the same??')\n",
    "        return self.name == other.name "
   ]
  },
  {
   "cell_type": "code",
   "execution_count": 125,
   "id": "2e4de30f",
   "metadata": {},
   "outputs": [
    {
     "name": "stdout",
     "output_type": "stream",
     "text": [
      "Are Pizza and Pizza the same??\n"
     ]
    },
    {
     "data": {
      "text/plain": [
       "True"
      ]
     },
     "execution_count": 125,
     "metadata": {},
     "output_type": "execute_result"
    }
   ],
   "source": [
    "pizza = Food('Pizza','healthy')\n",
    "pizza == pizza"
   ]
  },
  {
   "cell_type": "markdown",
   "id": "23f4c742",
   "metadata": {},
   "source": [
    "### `__dict__`\n",
    "Creates a dictionary of attributes.. useful!"
   ]
  },
  {
   "cell_type": "code",
   "execution_count": 126,
   "id": "6897ae79",
   "metadata": {},
   "outputs": [
    {
     "name": "stdout",
     "output_type": "stream",
     "text": [
      "{'name': 'Pizza'}\n",
      "{'name': 'Ben', 'hobbies': 'cooking'}\n",
      "{'name': 'Tetris', '_console': 'PC', '_VideoGame__cheatCode': 'LOL'}\n"
     ]
    }
   ],
   "source": [
    "print(pizza.__dict__)\n",
    "print(BenB.__dict__)\n",
    "print(tetris.__dict__) # notice our 'private' attribute 😅"
   ]
  },
  {
   "cell_type": "markdown",
   "id": "bb679e37-8beb-44d6-937a-dcccd94b6790",
   "metadata": {},
   "source": [
    "### args and kwargs\n",
    "- `*args` = the * converts the argument into an interable tuple, so you can pass multiple arguments by position. The word 'args' can be anything but is often kept as 'args'.\n",
    "- `**kwargs` = the ** converts the argument into an interable dictionary, so you can pass multiple arguments by key:value pairs. The word 'kwargs' can be anything but is often kept as 'kwargs'."
   ]
  },
  {
   "cell_type": "code",
   "execution_count": 127,
   "id": "88d91054-f1ad-4c26-b75a-c3800664d7db",
   "metadata": {},
   "outputs": [
    {
     "name": "stdout",
     "output_type": "stream",
     "text": [
      "I'm hungry for pizza\n"
     ]
    },
    {
     "ename": "TypeError",
     "evalue": "hungry() takes 1 positional argument but 5 were given",
     "output_type": "error",
     "traceback": [
      "\u001b[0;31m---------------------------------------------------------------------------\u001b[0m",
      "\u001b[0;31mTypeError\u001b[0m                                 Traceback (most recent call last)",
      "\u001b[0;32m<ipython-input-127-8324670c8dbc>\u001b[0m in \u001b[0;36m<module>\u001b[0;34m\u001b[0m\n\u001b[1;32m      3\u001b[0m \u001b[0mhungry\u001b[0m\u001b[0;34m(\u001b[0m\u001b[0;34m\"pizza\"\u001b[0m\u001b[0;34m)\u001b[0m\u001b[0;34m\u001b[0m\u001b[0;34m\u001b[0m\u001b[0m\n\u001b[1;32m      4\u001b[0m \u001b[0;34m\u001b[0m\u001b[0m\n\u001b[0;32m----> 5\u001b[0;31m \u001b[0mhungry\u001b[0m\u001b[0;34m(\u001b[0m\u001b[0;34m\"pizza\"\u001b[0m\u001b[0;34m,\u001b[0m\u001b[0;34m\"tacos\"\u001b[0m\u001b[0;34m,\u001b[0m\u001b[0;34m\"butter mochi\"\u001b[0m\u001b[0;34m,\u001b[0m\u001b[0;34m\"corndog\"\u001b[0m\u001b[0;34m,\u001b[0m\u001b[0;34m\"tostones\"\u001b[0m\u001b[0;34m)\u001b[0m \u001b[0;31m#darn... what to do?\u001b[0m\u001b[0;34m\u001b[0m\u001b[0;34m\u001b[0m\u001b[0m\n\u001b[0m",
      "\u001b[0;31mTypeError\u001b[0m: hungry() takes 1 positional argument but 5 were given"
     ]
    }
   ],
   "source": [
    "def hungry(food):\n",
    "    print(\"I'm hungry for\", food)\n",
    "hungry(\"pizza\")\n",
    "\n",
    "hungry(\"pizza\",\"tacos\",\"butter mochi\",\"corndog\",\"tostones\") #darn... what to do?"
   ]
  },
  {
   "cell_type": "code",
   "execution_count": 128,
   "id": "9f269723-3a36-4a9b-817e-bc35be8e4881",
   "metadata": {},
   "outputs": [
    {
     "name": "stdout",
     "output_type": "stream",
     "text": [
      "I'm hungry for pizza\n",
      "I'm hungry for tacos\n",
      "I'm hungry for butter mochi\n",
      "I'm hungry for corndog\n",
      "I'm hungry for tostones\n",
      "still hungry...\n"
     ]
    }
   ],
   "source": [
    "def hungrier(*args):\n",
    "    for food in args:\n",
    "        print(\"I'm hungry for\", food)\n",
    "    print(\"still hungry...\")\n",
    "    \n",
    "hungrier(\"pizza\",\"tacos\",\"butter mochi\",\"corndog\",\"tostones\") \n"
   ]
  },
  {
   "cell_type": "code",
   "execution_count": 129,
   "id": "608005b8-7b3a-48fa-9ed0-73ca048ca17e",
   "metadata": {},
   "outputs": [
    {
     "name": "stdout",
     "output_type": "stream",
     "text": [
      "001234567 has been input. The student's name is:\n",
      " Jon Doe\n"
     ]
    },
    {
     "ename": "TypeError",
     "evalue": "unhashable type: 'list'",
     "output_type": "error",
     "traceback": [
      "\u001b[0;31m---------------------------------------------------------------------------\u001b[0m",
      "\u001b[0;31mTypeError\u001b[0m                                 Traceback (most recent call last)",
      "\u001b[0;32m<ipython-input-129-e4931810c866>\u001b[0m in \u001b[0;36m<module>\u001b[0;34m\u001b[0m\n\u001b[1;32m      3\u001b[0m     \u001b[0mprint\u001b[0m\u001b[0;34m(\u001b[0m\u001b[0mcoyoteID\u001b[0m\u001b[0;34m,\u001b[0m\u001b[0;34m\"has been input. The student's name is:\\n\"\u001b[0m\u001b[0;34m,\u001b[0m \u001b[0mstudents\u001b[0m\u001b[0;34m[\u001b[0m\u001b[0mcoyoteID\u001b[0m\u001b[0;34m]\u001b[0m\u001b[0;34m)\u001b[0m\u001b[0;34m\u001b[0m\u001b[0;34m\u001b[0m\u001b[0m\n\u001b[1;32m      4\u001b[0m \u001b[0mstudent_name\u001b[0m\u001b[0;34m(\u001b[0m\u001b[0;34m\"001234567\"\u001b[0m\u001b[0;34m)\u001b[0m\u001b[0;34m\u001b[0m\u001b[0;34m\u001b[0m\u001b[0m\n\u001b[0;32m----> 5\u001b[0;31m \u001b[0mstudent_name\u001b[0m\u001b[0;34m(\u001b[0m\u001b[0;34m[\u001b[0m\u001b[0;34m\"001234567\"\u001b[0m\u001b[0;34m,\u001b[0m\u001b[0;34m\"003574622\"\u001b[0m\u001b[0;34m]\u001b[0m\u001b[0;34m)\u001b[0m \u001b[0;31m#that didn't work... hmm\u001b[0m\u001b[0;34m\u001b[0m\u001b[0;34m\u001b[0m\u001b[0m\n\u001b[0m",
      "\u001b[0;32m<ipython-input-129-e4931810c866>\u001b[0m in \u001b[0;36mstudent_name\u001b[0;34m(coyoteID)\u001b[0m\n\u001b[1;32m      1\u001b[0m \u001b[0mstudents\u001b[0m \u001b[0;34m=\u001b[0m \u001b[0;34m{\u001b[0m\u001b[0;34m\"001234567\"\u001b[0m\u001b[0;34m:\u001b[0m \u001b[0;34m\"Jon Doe\"\u001b[0m\u001b[0;34m,\u001b[0m \u001b[0;34m\"000000001\"\u001b[0m\u001b[0;34m:\u001b[0m \u001b[0;34m\"Cody Coyote\"\u001b[0m\u001b[0;34m,\u001b[0m \u001b[0;34m\"003574622\"\u001b[0m\u001b[0;34m:\u001b[0m \u001b[0;34m\"Ben Becerra\"\u001b[0m\u001b[0;34m}\u001b[0m\u001b[0;34m\u001b[0m\u001b[0;34m\u001b[0m\u001b[0m\n\u001b[1;32m      2\u001b[0m \u001b[0;32mdef\u001b[0m \u001b[0mstudent_name\u001b[0m\u001b[0;34m(\u001b[0m\u001b[0mcoyoteID\u001b[0m\u001b[0;34m)\u001b[0m\u001b[0;34m:\u001b[0m\u001b[0;34m\u001b[0m\u001b[0;34m\u001b[0m\u001b[0m\n\u001b[0;32m----> 3\u001b[0;31m     \u001b[0mprint\u001b[0m\u001b[0;34m(\u001b[0m\u001b[0mcoyoteID\u001b[0m\u001b[0;34m,\u001b[0m\u001b[0;34m\"has been input. The student's name is:\\n\"\u001b[0m\u001b[0;34m,\u001b[0m \u001b[0mstudents\u001b[0m\u001b[0;34m[\u001b[0m\u001b[0mcoyoteID\u001b[0m\u001b[0;34m]\u001b[0m\u001b[0;34m)\u001b[0m\u001b[0;34m\u001b[0m\u001b[0;34m\u001b[0m\u001b[0m\n\u001b[0m\u001b[1;32m      4\u001b[0m \u001b[0mstudent_name\u001b[0m\u001b[0;34m(\u001b[0m\u001b[0;34m\"001234567\"\u001b[0m\u001b[0;34m)\u001b[0m\u001b[0;34m\u001b[0m\u001b[0;34m\u001b[0m\u001b[0m\n\u001b[1;32m      5\u001b[0m \u001b[0mstudent_name\u001b[0m\u001b[0;34m(\u001b[0m\u001b[0;34m[\u001b[0m\u001b[0;34m\"001234567\"\u001b[0m\u001b[0;34m,\u001b[0m\u001b[0;34m\"003574622\"\u001b[0m\u001b[0;34m]\u001b[0m\u001b[0;34m)\u001b[0m \u001b[0;31m#that didn't work... hmm\u001b[0m\u001b[0;34m\u001b[0m\u001b[0;34m\u001b[0m\u001b[0m\n",
      "\u001b[0;31mTypeError\u001b[0m: unhashable type: 'list'"
     ]
    }
   ],
   "source": [
    "students = {\"001234567\": \"Jon Doe\", \"000000001\": \"Cody Coyote\", \"003574622\": \"Ben Becerra\"} \n",
    "def student_name(coyoteID):\n",
    "    print(coyoteID,\"has been input. The student's name is:\\n\", students[coyoteID])\n",
    "student_name(\"001234567\")\n",
    "student_name([\"001234567\",\"003574622\"]) #that didn't work... hmm\n"
   ]
  },
  {
   "cell_type": "code",
   "execution_count": 130,
   "id": "bab90b61-2fcf-4aee-a798-e5a5dcd0dec0",
   "metadata": {},
   "outputs": [
    {
     "name": "stdout",
     "output_type": "stream",
     "text": [
      "Beginning Student1 query.\n",
      "001234567 has been found. The student's name is:\n",
      " Jon Doe\n",
      "Beginning Student2 query.\n",
      "003574622 has been found. The student's name is:\n",
      " Ben Becerra\n"
     ]
    }
   ],
   "source": [
    "def multi_student_name(**kwargID):\n",
    "    for key, value in kwargID.items():\n",
    "        print(\"Beginning\", key, \"query.\")\n",
    "        print(value, \"has been found. The student's name is:\\n\", students[value])\n",
    "\n",
    "multi_student_name(Student1=\"001234567\", Student2=\"003574622\") \n",
    "# the argument gets passed as dict(Student1=\"001234567\", Student2=\"003574622\") or {\"Student1\":\"001234567\", \"Student2\":003574622}\n"
   ]
  },
  {
   "cell_type": "code",
   "execution_count": 131,
   "id": "c631256f-665b-4d83-b47d-0395fb756168",
   "metadata": {},
   "outputs": [
    {
     "name": "stdout",
     "output_type": "stream",
     "text": [
      "The following attribute has been set: favoriteFood = everything\n",
      "The following attribute has been set: favoriteMovie = 🤔️\n",
      "The following attribute has been set: age = ¯\\_(ツ)_/¯\n",
      "Modifications complete\n"
     ]
    }
   ],
   "source": [
    "def upgrade(instance, **kwargs):\n",
    "    for key, value in kwargs.items():\n",
    "        setattr(instance, key, value)\n",
    "        print(\"The following attribute has been set:\", key, \"=\", value)\n",
    "    print(\"Modifications complete\")\n",
    "upgrade(BenB, favoriteFood = \"everything\", favoriteMovie = \"🤔️\", age = \"¯\\_(ツ)_/¯\")\n"
   ]
  },
  {
   "cell_type": "code",
   "execution_count": 132,
   "id": "4fe26776-d6c1-4b74-a6a1-0e26ffd0f045",
   "metadata": {},
   "outputs": [
    {
     "name": "stdout",
     "output_type": "stream",
     "text": [
      "['__class__', '__delattr__', '__dict__', '__dir__', '__doc__', '__eq__', '__format__', '__ge__', '__getattribute__', '__gt__', '__hash__', '__init__', '__init_subclass__', '__le__', '__lt__', '__module__', '__ne__', '__new__', '__reduce__', '__reduce_ex__', '__repr__', '__setattr__', '__sizeof__', '__str__', '__subclasshook__', '__weakref__', 'age', 'change_name', 'favoriteFood', 'favoriteMovie', 'hobbies', 'name', 'university']\n",
      "\n",
      "What is Ben's age?  ¯\\_(ツ)_/¯\n"
     ]
    }
   ],
   "source": [
    "print(dir(BenB)) \n",
    "print(\"\\nWhat is Ben's age? \", BenB.age)\n"
   ]
  },
  {
   "cell_type": "markdown",
   "id": "b69b52f4-d8f0-446a-bb0a-e004f608b7cf",
   "metadata": {},
   "source": [
    "### Decorators in Python\n",
    "Expand the capabilities of your functions without having to modify them 🛠"
   ]
  },
  {
   "cell_type": "code",
   "execution_count": 133,
   "id": "afca91e5-7011-4010-b614-fe31bd6ab433",
   "metadata": {},
   "outputs": [
    {
     "name": "stdout",
     "output_type": "stream",
     "text": [
      "You entered 001234567, Thank you.\n"
     ]
    }
   ],
   "source": [
    "# A Basic Method\n",
    "def input_ID():\n",
    "    student_ID = input(\"Please input your student ID:\")\n",
    "    print(f\"You entered {student_ID}, Thank you.\")\n",
    "input_ID()\n",
    "\n",
    "# Oops, that's too basic... I should have had some welcome message! \n",
    "# But I may have multiple functions that could need a welcome message too.. 🤔 "
   ]
  },
  {
   "cell_type": "code",
   "execution_count": 134,
   "id": "47e08e04-51c2-4df3-a4ec-da7f6dd779d2",
   "metadata": {},
   "outputs": [],
   "source": [
    "def csusb_welcome(function):  #1. Accept a function as input\n",
    "    ''' Prints a Welcome to CSUSB banner before a function.'''\n",
    "    def inner(): #2. Define a new function\n",
    "        print(\"Welcome to CSUSB 🐺!!\") #3. Add new capabilities\n",
    "        function() #4. Add the original function\n",
    "    return inner #5. Return a NEW function that has been modified/enhanced! 🤩\n",
    "\n",
    "def banner(function):\n",
    "    ''' Prints a banner of repeating symbols based off user input before and after a function.'''\n",
    "    def inner(symbol):\n",
    "        print(str(symbol) * 30)\n",
    "        function()\n",
    "        print(str(symbol) * 30)\n",
    "    return inner\n",
    "\n",
    "def morelines(function):\n",
    "    '''This allows additional lines of text to be printed after the initial function is called.'''\n",
    "    def inner(*args):\n",
    "        function()\n",
    "        for value in args:\n",
    "            print(value)\n",
    "    return inner\n"
   ]
  },
  {
   "cell_type": "code",
   "execution_count": 135,
   "id": "04399264-8ceb-4004-ad99-7a7351006635",
   "metadata": {},
   "outputs": [
    {
     "name": "stdout",
     "output_type": "stream",
     "text": [
      "Welcome to CSUSB 🐺!!\n",
      "You entered 001234567, Thank you.\n",
      "Help on function csusb_welcome in module __main__:\n",
      "\n",
      "csusb_welcome(function)\n",
      "    Prints a Welcome to CSUSB banner before a function.\n",
      "\n"
     ]
    }
   ],
   "source": [
    "# Applying a decorator function\n",
    "@csusb_welcome\n",
    "def input_ID():\n",
    "    student_ID = input(\"Please input your student ID:\")\n",
    "    print(f\"You entered {student_ID}, Thank you.\")\n",
    "    \n",
    "input_ID()\n",
    "help(csusb_welcome)"
   ]
  },
  {
   "cell_type": "code",
   "execution_count": 136,
   "id": "ed7e8d88-11fa-4f33-bb7e-772df8e73f64",
   "metadata": {},
   "outputs": [
    {
     "name": "stdout",
     "output_type": "stream",
     "text": [
      "🤩🤩🤩🤩🤩🤩🤩🤩🤩🤩🤩🤩🤩🤩🤩🤩🤩🤩🤩🤩🤩🤩🤩🤩🤩🤩🤩🤩🤩🤩\n",
      "Welcome to CSUSB 🐺!!\n",
      "You entered 001234567, Thank you.\n",
      "🤩🤩🤩🤩🤩🤩🤩🤩🤩🤩🤩🤩🤩🤩🤩🤩🤩🤩🤩🤩🤩🤩🤩🤩🤩🤩🤩🤩🤩🤩\n"
     ]
    }
   ],
   "source": [
    "# You can add more than one decorator!!\n",
    "@banner\n",
    "@csusb_welcome\n",
    "def input_ID():\n",
    "    student_ID = input(\"Please input your student ID:\")\n",
    "    print(f\"You entered {student_ID}, Thank you.\")\n",
    "    \n",
    "input_ID(\"🤩\")"
   ]
  },
  {
   "cell_type": "code",
   "execution_count": 137,
   "id": "50824ad7",
   "metadata": {},
   "outputs": [
    {
     "name": "stdout",
     "output_type": "stream",
     "text": [
      "You entered 001234567, Thank you.\n",
      "We appreciate you joining our campus!\n",
      "Don't forget to check your CoyoteMail!\n",
      "Did you pay your tuition?! 🧿\n"
     ]
    }
   ],
   "source": [
    "@morelines\n",
    "def input_ID():\n",
    "    student_ID = input(\"Please input your student ID:\")\n",
    "    print(f\"You entered {student_ID}, Thank you.\")\n",
    "input_ID(\"We appreciate you joining our campus!\", \"Don't forget to check your CoyoteMail!\", \"Did you pay your tuition?! 🧿\")\n"
   ]
  },
  {
   "cell_type": "code",
   "execution_count": 138,
   "id": "284e218c",
   "metadata": {},
   "outputs": [
    {
     "ename": "TypeError",
     "evalue": "inner() takes 1 positional argument but 3 were given",
     "output_type": "error",
     "traceback": [
      "\u001b[0;31m---------------------------------------------------------------------------\u001b[0m",
      "\u001b[0;31mTypeError\u001b[0m                                 Traceback (most recent call last)",
      "\u001b[0;32m<ipython-input-138-8e11395131bc>\u001b[0m in \u001b[0;36m<module>\u001b[0;34m\u001b[0m\n\u001b[1;32m      6\u001b[0m     \u001b[0mstudent_ID\u001b[0m \u001b[0;34m=\u001b[0m \u001b[0minput\u001b[0m\u001b[0;34m(\u001b[0m\u001b[0;34m\"Please input your student ID:\"\u001b[0m\u001b[0;34m)\u001b[0m\u001b[0;34m\u001b[0m\u001b[0;34m\u001b[0m\u001b[0m\n\u001b[1;32m      7\u001b[0m     \u001b[0mprint\u001b[0m\u001b[0;34m(\u001b[0m\u001b[0;34mf\"You entered {student_ID}, Thank you.\"\u001b[0m\u001b[0;34m)\u001b[0m\u001b[0;34m\u001b[0m\u001b[0;34m\u001b[0m\u001b[0m\n\u001b[0;32m----> 8\u001b[0;31m \u001b[0minput_ID\u001b[0m\u001b[0;34m(\u001b[0m\u001b[0;34m\"We appreciate you joining our campus!\"\u001b[0m\u001b[0;34m,\u001b[0m \u001b[0;34m\"Don't forget to check your CoyoteMail!\"\u001b[0m\u001b[0;34m,\u001b[0m \u001b[0;34m\"Did you pay your tuition?! 🧿\"\u001b[0m\u001b[0;34m)\u001b[0m\u001b[0;34m\u001b[0m\u001b[0;34m\u001b[0m\u001b[0m\n\u001b[0m",
      "\u001b[0;31mTypeError\u001b[0m: inner() takes 1 positional argument but 3 were given"
     ]
    }
   ],
   "source": [
    "# Oops, that didn't work... a decorator will not work with ANY function 🤔... \n",
    "# If you use pre-coded decorators, check the documentation for which functions are compatible!\n",
    "@banner\n",
    "@morelines\n",
    "def input_ID():\n",
    "    student_ID = input(\"Please input your student ID:\")\n",
    "    print(f\"You entered {student_ID}, Thank you.\")\n",
    "input_ID(\"We appreciate you joining our campus!\", \"Don't forget to check your CoyoteMail!\", \"Did you pay your tuition?! 🧿\")\n"
   ]
  },
  {
   "cell_type": "markdown",
   "id": "fb40686b-0569-452b-8c4f-7d6ea2e18d1e",
   "metadata": {},
   "source": [
    "## Activity"
   ]
  },
  {
   "cell_type": "code",
   "execution_count": 8,
   "id": "9ba6cba5-81c7-43f5-8779-6f9898b454c7",
   "metadata": {},
   "outputs": [
    {
     "name": "stdout",
     "output_type": "stream",
     "text": [
      "Student's name: Kobe Mai \n",
      "Ethnicity: Vietnamese \n",
      "Standing: Senior \n",
      "Graduation year: 2022\n"
     ]
    }
   ],
   "source": [
    "# 1a. Create a class for a generic object. Here are some ideas: Automobile, Student, Food, Customer, Employee \n",
    "# 1b. Include at least 1 method (besides the __init__ function). Don't forget the docString!!\n",
    "# 1c. Create at least 1 class attribute. \n",
    "# 1d. Create at least 1 instance attribute.\n",
    "# 1e  Create TWO different instances of your object of more specific automobiles. \n",
    "class Student():\n",
    "    school = 'CSUSB'\n",
    "    def __init__(self, student_name, student_ethnicity, student_standing, student_gradyear):\n",
    "        self.name = student_name\n",
    "        self.ethnicity = student_ethnicity\n",
    "        self.standing = student_standing\n",
    "        self.gradyear = student_gradyear \n",
    "    def __str__(student):\n",
    "        return f'Student name is {self.name} and ethnicity is {self.ethnicity}'\n",
    "\n",
    "Student = Student('Kobe Mai','Vietnamese','Senior','2022')\n",
    "\n",
    "print (f\"Student's name: {Student.name} \\nEthnicity: {Student.ethnicity} \\nStanding: {Student.standing} \\nGraduation year: {Student.gradyear}\")\n"
   ]
  },
  {
   "cell_type": "code",
   "execution_count": 16,
   "id": "fc24f8a7-b512-42d0-bfe6-265c5c606969",
   "metadata": {},
   "outputs": [
    {
     "name": "stdout",
     "output_type": "stream",
     "text": [
      "You are available on Monday for:\n",
      "60 minutes\n",
      "You are available on Tuesday for:\n",
      "15 minutes\n",
      "You are available on Wednesday for:\n",
      "2 hours\n"
     ]
    }
   ],
   "source": [
    "#2 Convert this function to accept multiple arguments using **kwargs\n",
    "def availability(**kwargID):\n",
    "    for key, value in kwargID.items():\n",
    "        print(\"You are available on\", key, \"for:\")\n",
    "        print(value)\n",
    "\n",
    "availability(Monday = \"60 minutes\", Tuesday = \"15 minutes\", Wednesday = \"2 hours\") #this doesn't work :( \n"
   ]
  },
  {
   "cell_type": "code",
   "execution_count": 21,
   "id": "909f61bf-f50a-49ee-87a1-bc1bf2c5d2a8",
   "metadata": {},
   "outputs": [
    {
     "name": "stdout",
     "output_type": "stream",
     "text": [
      "New game initiated. Define player stats:\n",
      "job = Grappler\n",
      "STR = 40\n",
      "DEF = 20\n",
      "AGL = 40\n",
      "INT = 10\n",
      "LCK = 5\n"
     ]
    }
   ],
   "source": [
    "#3 Fix the code below so that the new_game() function will change player attributes (job, STR, DEF, AGL, INT, LCK).\n",
    "class Player:\n",
    "    def __init__(self): \n",
    "        self.job = \"Onion Knight\"\n",
    "        self.STR = 5\n",
    "        self.DEF = 5\n",
    "        self.AGL = 5\n",
    "        self.INT = 5\n",
    "        self.LCK = 0\n",
    "        print(\"New game initiated. Define player stats:\")\n",
    "###Change code here!###\n",
    "    def new_game(instance, **kwargs):\n",
    "        for key, value in kwargs.items():\n",
    "            setattr(instance, key, value)\n",
    "            print(key, '=', value)\n",
    "\n",
    "    ##end change code###\n",
    "player1 = Player()\n",
    "player1.new_game(job='Grappler', STR=40, DEF=20, AGL=40, INT=10, LCK=5) #fix the function above for this to work!\n"
   ]
  },
  {
   "cell_type": "code",
   "execution_count": 34,
   "id": "d29200bd-8632-4a25-ac60-7f177a14760b",
   "metadata": {},
   "outputs": [
    {
     "name": "stdout",
     "output_type": "stream",
     "text": [
      "***TEXAS ROADHOUSE YEE HAW GIDDY UP***\n",
      "\n",
      "Thank you for ordering steak.\n",
      "Your order will be finished in 15 min.\n",
      "\n",
      "***TEXAS ROADHOUSE YEE HAW GIDDY UP***\n"
     ]
    }
   ],
   "source": [
    "#4 Create a decorator to enhance this function. You can add any additional feature you want.\n",
    "def decorator(function):\n",
    "    def wrapper(*arg, **kwargs):\n",
    "        print(\"***TEXAS ROADHOUSE YEE HAW GIDDY UP***\")\n",
    "        function(*arg, **kwargs)\n",
    "        print(\"***TEXAS ROADHOUSE YEE HAW GIDDY UP***\")\n",
    "    return wrapper\n",
    "\n",
    "@decorator\n",
    "def food_order(food):\n",
    "    print(f\"\\nThank you for ordering {food}.\")\n",
    "    print(\"Your order will be finished in 15 min.\\n\")\n",
    "\n",
    "food_order(\"steak\")\n",
    "    \n",
    "\n"
   ]
  },
  {
   "cell_type": "markdown",
   "id": "ebb74306-c225-48a1-9e1d-88ceb014675c",
   "metadata": {},
   "source": [
    "Additional Sources: \n",
    "- https://betterprogramming.pub/public-private-and-protected-access-modifiers-in-python-9024f4c1dd4 \n",
    "- https://www.geeksforgeeks.org/args-kwargs-python/\n",
    "- https://towardsdatascience.com/object-oriented-programming-in-python-understanding-variable-e451cf581368\n",
    "- https://docs.python.org/3/tutorial/classes.html#python-scopes-and-namespaces\n",
    "- [Medium.com: Dataclass OOP](https://towardsdatascience.com/dataclass-easiest-ever-object-oriented-programming-in-python-ffd37cd2a5bf)\n",
    "- [Medium.com: Decorators](https://medium.com/@bubbapora_76246/clean-up-your-python-code-with-decorators-613e7ad4444b)\n",
    "- https://www.digitalocean.com/community/tutorials/python-str-repr-functions\n",
    "\n",
    "Copyright Benjamin J. Becerra v2022.10.10.0"
   ]
  }
 ],
 "metadata": {
  "kernelspec": {
   "display_name": "Python 3 (ipykernel)",
   "language": "python",
   "name": "python3"
  },
  "language_info": {
   "codemirror_mode": {
    "name": "ipython",
    "version": 3
   },
   "file_extension": ".py",
   "mimetype": "text/x-python",
   "name": "python",
   "nbconvert_exporter": "python",
   "pygments_lexer": "ipython3",
   "version": "3.10.6"
  },
  "vscode": {
   "interpreter": {
    "hash": "40d3a090f54c6569ab1632332b64b2c03c39dcf918b08424e98f38b5ae0af88f"
   }
  }
 },
 "nbformat": 4,
 "nbformat_minor": 5
}
